{
 "cells": [
  {
   "cell_type": "code",
   "execution_count": 1,
   "metadata": {},
   "outputs": [
    {
     "name": "stderr",
     "output_type": "stream",
     "text": [
      "Using TensorFlow backend.\n"
     ]
    }
   ],
   "source": [
    "#Libraries needed to prepare the data, create and evaluate the model\n",
    "\n",
    "import pandas as pd\n",
    "import numpy as np\n",
    "import keras\n",
    "from keras.models import Sequential\n",
    "from keras.layers import Dense\n",
    "from keras import optimizers\n",
    "import matplotlib.pyplot as plt\n",
    "plt.rcParams['figure.figsize'] = [15, 7]"
   ]
  },
  {
   "cell_type": "code",
   "execution_count": 2,
   "metadata": {
    "collapsed": true
   },
   "outputs": [],
   "source": [
    "#Importing the datasets used in the exercise\n",
    "\n",
    "df_train = pd.read_csv('train_100k.csv')\n",
    "df_val = pd.read_csv('train_100k.truth.csv')\n",
    "df_test = pd.read_csv('test_100k.csv')\n"
   ]
  },
  {
   "cell_type": "code",
   "execution_count": 3,
   "metadata": {},
   "outputs": [],
   "source": [
    "traind = df_train.values\n",
    "train1 = traind[:,1:]\n",
    "\n",
    "\n",
    "train_l = df_val.values\n",
    "trainl = train_l[:,1:] "
   ]
  },
  {
   "cell_type": "code",
   "execution_count": 4,
   "metadata": {},
   "outputs": [
    {
     "name": "stdout",
     "output_type": "stream",
     "text": [
      "_________________________________________________________________\n",
      "Layer (type)                 Output Shape              Param #   \n",
      "=================================================================\n",
      "dense_1 (Dense)              (None, 45)                945       \n",
      "_________________________________________________________________\n",
      "dense_2 (Dense)              (None, 30)                1380      \n",
      "_________________________________________________________________\n",
      "dense_3 (Dense)              (None, 2)                 62        \n",
      "=================================================================\n",
      "Total params: 2,387\n",
      "Trainable params: 2,387\n",
      "Non-trainable params: 0\n",
      "_________________________________________________________________\n"
     ]
    }
   ],
   "source": [
    "#Creating the model \n",
    "\n",
    "model = Sequential()\n",
    "model.add(Dense(45,input_dim=train1.shape[1],activation='relu'))\n",
    "model.add(Dense(30,activation='relu'))\n",
    "model.add(Dense(2,activation='linear'))\n",
    "\n",
    "model.summary()"
   ]
  },
  {
   "cell_type": "code",
   "execution_count": 5,
   "metadata": {},
   "outputs": [
    {
     "name": "stdout",
     "output_type": "stream",
     "text": [
      "Epoch 1/100\n",
      " - 12s - loss: 1740.6035 - mean_squared_error: 1740.6035 - mean_absolute_error: 19.1684\n",
      "Epoch 2/100\n",
      " - 11s - loss: 524.7688 - mean_squared_error: 524.7688 - mean_absolute_error: 10.1409\n",
      "Epoch 3/100\n",
      " - 12s - loss: 258.3117 - mean_squared_error: 258.3117 - mean_absolute_error: 7.0911\n",
      "Epoch 4/100\n",
      " - 13s - loss: 160.5651 - mean_squared_error: 160.5651 - mean_absolute_error: 5.6564\n",
      "Epoch 5/100\n",
      " - 10s - loss: 119.1804 - mean_squared_error: 119.1804 - mean_absolute_error: 4.8838\n",
      "Epoch 6/100\n",
      " - 11s - loss: 102.6371 - mean_squared_error: 102.6371 - mean_absolute_error: 4.5399\n",
      "Epoch 7/100\n",
      " - 11s - loss: 90.4466 - mean_squared_error: 90.4466 - mean_absolute_error: 4.2907\n",
      "Epoch 8/100\n",
      " - 10s - loss: 89.2483 - mean_squared_error: 89.2483 - mean_absolute_error: 4.1947\n",
      "Epoch 9/100\n",
      " - 10s - loss: 75.4435 - mean_squared_error: 75.4435 - mean_absolute_error: 3.9497\n",
      "Epoch 10/100\n",
      " - 11s - loss: 72.7384 - mean_squared_error: 72.7384 - mean_absolute_error: 3.8580\n",
      "Epoch 11/100\n",
      " - 11s - loss: 72.6698 - mean_squared_error: 72.6698 - mean_absolute_error: 3.8300\n",
      "Epoch 12/100\n",
      " - 11s - loss: 66.6918 - mean_squared_error: 66.6918 - mean_absolute_error: 3.7110\n",
      "Epoch 13/100\n",
      " - 12s - loss: 65.9743 - mean_squared_error: 65.9743 - mean_absolute_error: 3.6610\n",
      "Epoch 14/100\n",
      " - 11s - loss: 65.3741 - mean_squared_error: 65.3741 - mean_absolute_error: 3.6427\n",
      "Epoch 15/100\n",
      " - 12s - loss: 60.6712 - mean_squared_error: 60.6712 - mean_absolute_error: 3.5649\n",
      "Epoch 16/100\n",
      " - 11s - loss: 63.2384 - mean_squared_error: 63.2384 - mean_absolute_error: 3.5619\n",
      "Epoch 17/100\n",
      " - 11s - loss: 62.1332 - mean_squared_error: 62.1332 - mean_absolute_error: 3.5359\n",
      "Epoch 18/100\n",
      " - 11s - loss: 58.6830 - mean_squared_error: 58.6830 - mean_absolute_error: 3.4709\n",
      "Epoch 19/100\n",
      " - 12s - loss: 55.4744 - mean_squared_error: 55.4744 - mean_absolute_error: 3.3998\n",
      "Epoch 20/100\n",
      " - 14s - loss: 57.5593 - mean_squared_error: 57.5593 - mean_absolute_error: 3.4433\n",
      "Epoch 21/100\n",
      " - 12s - loss: 56.3093 - mean_squared_error: 56.3093 - mean_absolute_error: 3.3923\n",
      "Epoch 22/100\n",
      " - 10s - loss: 53.2757 - mean_squared_error: 53.2757 - mean_absolute_error: 3.3277\n",
      "Epoch 23/100\n",
      " - 11s - loss: 53.3378 - mean_squared_error: 53.3378 - mean_absolute_error: 3.3291\n",
      "Epoch 24/100\n",
      " - 12s - loss: 52.4893 - mean_squared_error: 52.4893 - mean_absolute_error: 3.3033\n",
      "Epoch 25/100\n",
      " - 12s - loss: 52.1665 - mean_squared_error: 52.1665 - mean_absolute_error: 3.2843\n",
      "Epoch 26/100\n",
      " - 10s - loss: 53.0796 - mean_squared_error: 53.0796 - mean_absolute_error: 3.3046\n",
      "Epoch 27/100\n",
      " - 11s - loss: 48.7182 - mean_squared_error: 48.7182 - mean_absolute_error: 3.2075\n",
      "Epoch 28/100\n",
      " - 11s - loss: 53.0980 - mean_squared_error: 53.0980 - mean_absolute_error: 3.2796\n",
      "Epoch 29/100\n",
      " - 11s - loss: 47.4727 - mean_squared_error: 47.4727 - mean_absolute_error: 3.1579\n",
      "Epoch 30/100\n",
      " - 11s - loss: 51.0334 - mean_squared_error: 51.0334 - mean_absolute_error: 3.2207\n",
      "Epoch 31/100\n",
      " - 10s - loss: 48.0176 - mean_squared_error: 48.0176 - mean_absolute_error: 3.1645\n",
      "Epoch 32/100\n",
      " - 11s - loss: 47.1562 - mean_squared_error: 47.1562 - mean_absolute_error: 3.1456\n",
      "Epoch 33/100\n",
      " - 11s - loss: 49.8914 - mean_squared_error: 49.8914 - mean_absolute_error: 3.1913\n",
      "Epoch 34/100\n",
      " - 11s - loss: 46.3690 - mean_squared_error: 46.3690 - mean_absolute_error: 3.1151\n",
      "Epoch 35/100\n",
      " - 10s - loss: 47.2078 - mean_squared_error: 47.2078 - mean_absolute_error: 3.1335\n",
      "Epoch 36/100\n",
      " - 11s - loss: 48.4134 - mean_squared_error: 48.4134 - mean_absolute_error: 3.1402\n",
      "Epoch 37/100\n",
      " - 11s - loss: 45.6576 - mean_squared_error: 45.6576 - mean_absolute_error: 3.0944\n",
      "Epoch 38/100\n",
      " - 11s - loss: 48.2934 - mean_squared_error: 48.2934 - mean_absolute_error: 3.1415\n",
      "Epoch 39/100\n",
      " - 11s - loss: 44.2757 - mean_squared_error: 44.2757 - mean_absolute_error: 3.0683\n",
      "Epoch 40/100\n",
      " - 10s - loss: 44.9855 - mean_squared_error: 44.9855 - mean_absolute_error: 3.0902\n",
      "Epoch 41/100\n",
      " - 10s - loss: 46.5063 - mean_squared_error: 46.5063 - mean_absolute_error: 3.0963\n",
      "Epoch 42/100\n",
      " - 10s - loss: 44.9595 - mean_squared_error: 44.9595 - mean_absolute_error: 3.0679\n",
      "Epoch 43/100\n",
      " - 11s - loss: 44.9037 - mean_squared_error: 44.9037 - mean_absolute_error: 3.0554\n",
      "Epoch 44/100\n",
      " - 11s - loss: 44.2637 - mean_squared_error: 44.2637 - mean_absolute_error: 3.0663\n",
      "Epoch 45/100\n",
      " - 11s - loss: 43.3939 - mean_squared_error: 43.3939 - mean_absolute_error: 3.0386\n",
      "Epoch 46/100\n",
      " - 11s - loss: 44.5699 - mean_squared_error: 44.5699 - mean_absolute_error: 3.0483\n",
      "Epoch 47/100\n",
      " - 10s - loss: 42.8850 - mean_squared_error: 42.8850 - mean_absolute_error: 3.0178\n",
      "Epoch 48/100\n",
      " - 11s - loss: 43.6047 - mean_squared_error: 43.6047 - mean_absolute_error: 3.0275\n",
      "Epoch 49/100\n",
      " - 12s - loss: 42.9706 - mean_squared_error: 42.9706 - mean_absolute_error: 3.0298\n",
      "Epoch 50/100\n",
      " - 10s - loss: 42.0856 - mean_squared_error: 42.0856 - mean_absolute_error: 3.0025\n",
      "Epoch 51/100\n",
      " - 10s - loss: 42.1188 - mean_squared_error: 42.1188 - mean_absolute_error: 3.0058\n",
      "Epoch 52/100\n",
      " - 11s - loss: 43.2962 - mean_squared_error: 43.2962 - mean_absolute_error: 3.0172\n",
      "Epoch 53/100\n",
      " - 10s - loss: 41.4619 - mean_squared_error: 41.4619 - mean_absolute_error: 2.9806\n",
      "Epoch 54/100\n",
      " - 10s - loss: 42.3006 - mean_squared_error: 42.3006 - mean_absolute_error: 2.9878\n",
      "Epoch 55/100\n",
      " - 11s - loss: 41.9981 - mean_squared_error: 41.9981 - mean_absolute_error: 2.9964\n",
      "Epoch 56/100\n",
      " - 10s - loss: 41.7681 - mean_squared_error: 41.7681 - mean_absolute_error: 2.9862\n",
      "Epoch 57/100\n",
      " - 10s - loss: 41.7109 - mean_squared_error: 41.7109 - mean_absolute_error: 2.9690\n",
      "Epoch 58/100\n",
      " - 11s - loss: 42.4765 - mean_squared_error: 42.4765 - mean_absolute_error: 2.9722\n",
      "Epoch 59/100\n",
      " - 11s - loss: 41.0743 - mean_squared_error: 41.0743 - mean_absolute_error: 2.9573\n",
      "Epoch 60/100\n",
      " - 10s - loss: 40.3677 - mean_squared_error: 40.3677 - mean_absolute_error: 2.9538\n",
      "Epoch 61/100\n",
      " - 11s - loss: 40.7285 - mean_squared_error: 40.7285 - mean_absolute_error: 2.9337\n",
      "Epoch 62/100\n",
      " - 11s - loss: 41.6006 - mean_squared_error: 41.6006 - mean_absolute_error: 2.9648\n",
      "Epoch 63/100\n",
      " - 11s - loss: 39.9872 - mean_squared_error: 39.9872 - mean_absolute_error: 2.9339\n",
      "Epoch 64/100\n",
      " - 11s - loss: 39.9767 - mean_squared_error: 39.9767 - mean_absolute_error: 2.9332\n",
      "Epoch 65/100\n",
      " - 11s - loss: 40.4044 - mean_squared_error: 40.4044 - mean_absolute_error: 2.9369\n",
      "Epoch 66/100\n",
      " - 11s - loss: 39.8718 - mean_squared_error: 39.8718 - mean_absolute_error: 2.9241\n",
      "Epoch 67/100\n",
      " - 10s - loss: 39.3326 - mean_squared_error: 39.3326 - mean_absolute_error: 2.9064\n",
      "Epoch 68/100\n",
      " - 10s - loss: 40.8363 - mean_squared_error: 40.8363 - mean_absolute_error: 2.9342\n",
      "Epoch 69/100\n",
      " - 10s - loss: 40.9657 - mean_squared_error: 40.9657 - mean_absolute_error: 2.9629\n",
      "Epoch 70/100\n",
      " - 11s - loss: 39.3926 - mean_squared_error: 39.3926 - mean_absolute_error: 2.9166\n",
      "Epoch 71/100\n",
      " - 10s - loss: 38.9375 - mean_squared_error: 38.9375 - mean_absolute_error: 2.9020\n",
      "Epoch 72/100\n",
      " - 11s - loss: 39.6785 - mean_squared_error: 39.6785 - mean_absolute_error: 2.9163\n",
      "Epoch 73/100\n",
      " - 11s - loss: 40.0674 - mean_squared_error: 40.0674 - mean_absolute_error: 2.9323\n",
      "Epoch 74/100\n",
      " - 10s - loss: 39.6714 - mean_squared_error: 39.6714 - mean_absolute_error: 2.9213\n",
      "Epoch 75/100\n",
      " - 11s - loss: 39.1573 - mean_squared_error: 39.1573 - mean_absolute_error: 2.9230\n",
      "Epoch 76/100\n",
      " - 11s - loss: 39.3367 - mean_squared_error: 39.3367 - mean_absolute_error: 2.9165\n",
      "Epoch 77/100\n",
      " - 11s - loss: 40.9370 - mean_squared_error: 40.9370 - mean_absolute_error: 2.9417\n",
      "Epoch 78/100\n",
      " - 11s - loss: 37.6146 - mean_squared_error: 37.6146 - mean_absolute_error: 2.8759\n",
      "Epoch 79/100\n",
      " - 11s - loss: 40.2987 - mean_squared_error: 40.2987 - mean_absolute_error: 2.9322\n",
      "Epoch 80/100\n",
      " - 10s - loss: 39.1384 - mean_squared_error: 39.1384 - mean_absolute_error: 2.9004\n",
      "Epoch 81/100\n",
      " - 10s - loss: 39.4002 - mean_squared_error: 39.4002 - mean_absolute_error: 2.9147\n",
      "Epoch 82/100\n",
      " - 11s - loss: 39.1954 - mean_squared_error: 39.1954 - mean_absolute_error: 2.9139\n",
      "Epoch 83/100\n",
      " - 11s - loss: 39.0445 - mean_squared_error: 39.0445 - mean_absolute_error: 2.8920\n",
      "Epoch 84/100\n",
      " - 10s - loss: 39.0893 - mean_squared_error: 39.0893 - mean_absolute_error: 2.9067\n",
      "Epoch 85/100\n",
      " - 10s - loss: 39.5232 - mean_squared_error: 39.5232 - mean_absolute_error: 2.9212\n",
      "Epoch 86/100\n",
      " - 10s - loss: 38.7543 - mean_squared_error: 38.7543 - mean_absolute_error: 2.9019\n"
     ]
    },
    {
     "name": "stdout",
     "output_type": "stream",
     "text": [
      "Epoch 87/100\n",
      " - 11s - loss: 39.2315 - mean_squared_error: 39.2315 - mean_absolute_error: 2.9139\n",
      "Epoch 88/100\n",
      " - 12s - loss: 38.6990 - mean_squared_error: 38.6990 - mean_absolute_error: 2.9037\n",
      "Epoch 89/100\n",
      " - 11s - loss: 39.4455 - mean_squared_error: 39.4455 - mean_absolute_error: 2.9061\n",
      "Epoch 90/100\n",
      " - 11s - loss: 39.0184 - mean_squared_error: 39.0184 - mean_absolute_error: 2.9177\n",
      "Epoch 91/100\n",
      " - 11s - loss: 38.2195 - mean_squared_error: 38.2195 - mean_absolute_error: 2.8835\n",
      "Epoch 92/100\n",
      " - 11s - loss: 39.0588 - mean_squared_error: 39.0588 - mean_absolute_error: 2.9104\n",
      "Epoch 93/100\n",
      " - 12s - loss: 38.1344 - mean_squared_error: 38.1344 - mean_absolute_error: 2.8925\n",
      "Epoch 94/100\n",
      " - 11s - loss: 37.8615 - mean_squared_error: 37.8615 - mean_absolute_error: 2.8860\n",
      "Epoch 95/100\n",
      " - 10s - loss: 39.1823 - mean_squared_error: 39.1823 - mean_absolute_error: 2.9089\n",
      "Epoch 96/100\n",
      " - 10s - loss: 37.8425 - mean_squared_error: 37.8425 - mean_absolute_error: 2.8862\n",
      "Epoch 97/100\n",
      " - 10s - loss: 38.8287 - mean_squared_error: 38.8287 - mean_absolute_error: 2.8932\n",
      "Epoch 98/100\n",
      " - 10s - loss: 38.5963 - mean_squared_error: 38.5963 - mean_absolute_error: 2.9070\n",
      "Epoch 99/100\n",
      " - 10s - loss: 37.9982 - mean_squared_error: 37.9982 - mean_absolute_error: 2.8865\n",
      "Epoch 100/100\n",
      " - 11s - loss: 37.1834 - mean_squared_error: 37.1834 - mean_absolute_error: 2.8650\n",
      "Saved model to disk\n"
     ]
    }
   ],
   "source": [
    "#Setting the optimizer, loss function and metrics. Also fitting the model and saving the model and the weights trained.\n",
    "\n",
    "opt = optimizers.Adam(lr=0.001)\n",
    "\n",
    "model.compile(loss='mse', optimizer=opt, metrics=['mse','mae'])\n",
    "model.fit(train1, trainl, epochs=100, verbose=2)\n",
    "\n",
    "\n",
    "#Save model and model weights\n",
    "model_json = model.to_json()\n",
    "with open(\"reg_model1.json\", \"w\") as json_file:\n",
    "    json_file.write(model_json)\n",
    "# serialize weights to HDF5\n",
    "model.save_weights(\"reg_model_weights.h5\")\n",
    "print(\"Saved model to disk\")\n"
   ]
  },
  {
   "cell_type": "code",
   "execution_count": 6,
   "metadata": {},
   "outputs": [],
   "source": [
    "'''\n",
    "pred = model.predict(train1)\n",
    "'''"
   ]
  },
  {
   "cell_type": "code",
   "execution_count": 7,
   "metadata": {},
   "outputs": [],
   "source": [
    "'''\n",
    "predf = pd.DataFrame(pred, columns=['slope', 'intercept'])\n",
    "predf.index.name = 'id'\n",
    "predf.to_csv('sub.csv')\n",
    "'''"
   ]
  },
  {
   "cell_type": "code",
   "execution_count": 8,
   "metadata": {},
   "outputs": [],
   "source": [
    "dfx_test = df_test.values\n",
    "X_test = dfx_test[:,1:]"
   ]
  },
  {
   "cell_type": "code",
   "execution_count": 9,
   "metadata": {},
   "outputs": [
    {
     "data": {
      "text/plain": [
       "array([[  8.72340798e-02,   1.99023056e+02],\n",
       "       [ -6.83989525e-02,   8.91571140e+00],\n",
       "       [ -1.20237529e-01,  -5.64914818e+01],\n",
       "       ..., \n",
       "       [  6.22117929e-02,  -1.23065933e+02],\n",
       "       [ -1.24883902e+00,   2.10352432e+02],\n",
       "       [ -1.11541581e+00,   3.44213623e+02]], dtype=float32)"
      ]
     },
     "execution_count": 9,
     "metadata": {},
     "output_type": "execute_result"
    }
   ],
   "source": [
    "#Using the model to predict with the test dataset\n",
    "\n",
    "prediction = model.predict(X_test)\n",
    "prediction"
   ]
  },
  {
   "cell_type": "code",
   "execution_count": 10,
   "metadata": {
    "collapsed": true
   },
   "outputs": [],
   "source": [
    "#Saving the submission.csv file\n",
    "\n",
    "predfile = pd.DataFrame(pred, columns=['slope', 'intercept'])\n",
    "predf.index.name = 'id'\n",
    "predf.to_csv('submission.csv')"
   ]
  },
  {
   "cell_type": "code",
   "execution_count": null,
   "metadata": {
    "collapsed": true
   },
   "outputs": [],
   "source": []
  }
 ],
 "metadata": {
  "kernelspec": {
   "display_name": "Python 3",
   "language": "python",
   "name": "python3"
  },
  "language_info": {
   "codemirror_mode": {
    "name": "ipython",
    "version": 3
   },
   "file_extension": ".py",
   "mimetype": "text/x-python",
   "name": "python",
   "nbconvert_exporter": "python",
   "pygments_lexer": "ipython3",
   "version": "3.6.3"
  }
 },
 "nbformat": 4,
 "nbformat_minor": 2
}
