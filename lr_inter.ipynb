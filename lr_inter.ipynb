{
 "cells": [
  {
   "cell_type": "code",
   "execution_count": 2,
   "metadata": {},
   "outputs": [],
   "source": [
    "#Libraries needed to prepare the data, create and evaluate the model\n",
    "\n",
    "import pandas as pd\n",
    "import numpy as np\n",
    "import keras\n",
    "from keras.models import Sequential\n",
    "from keras.layers import Dense\n",
    "from keras import optimizers\n",
    "import matplotlib.pyplot as plt\n",
    "plt.rcParams['figure.figsize'] = [15, 7]"
   ]
  },
  {
   "cell_type": "code",
   "execution_count": 3,
   "metadata": {
    "collapsed": true
   },
   "outputs": [],
   "source": [
    "#Importing the datasets used in the exercise\n",
    "\n",
    "df_train = pd.read_csv('train_100k.csv')\n",
    "df_val = pd.read_csv('train_100k.truth.csv')\n",
    "df_test = pd.read_csv('test_100k.csv')\n"
   ]
  },
  {
   "cell_type": "code",
   "execution_count": 4,
   "metadata": {},
   "outputs": [],
   "source": [
    "traind = df_train.values\n",
    "train1 = traind[:,1:]\n",
    "\n",
    "\n",
    "train_l = df_val.values\n",
    "trainl = train_l[:,1:] "
   ]
  },
  {
   "cell_type": "code",
   "execution_count": 5,
   "metadata": {},
   "outputs": [
    {
     "name": "stdout",
     "output_type": "stream",
     "text": [
      "_________________________________________________________________\n",
      "Layer (type)                 Output Shape              Param #   \n",
      "=================================================================\n",
      "dense_1 (Dense)              (None, 45)                945       \n",
      "_________________________________________________________________\n",
      "dense_2 (Dense)              (None, 30)                1380      \n",
      "_________________________________________________________________\n",
      "dense_3 (Dense)              (None, 2)                 62        \n",
      "=================================================================\n",
      "Total params: 2,387\n",
      "Trainable params: 2,387\n",
      "Non-trainable params: 0\n",
      "_________________________________________________________________\n"
     ]
    }
   ],
   "source": [
    "#Creating the model \n",
    "\n",
    "model = Sequential()\n",
    "model.add(Dense(45,input_dim=train1.shape[1],activation='relu'))\n",
    "model.add(Dense(30,activation='relu'))\n",
    "model.add(Dense(2,activation='linear'))\n",
    "\n",
    "model.summary()"
   ]
  },
  {
   "cell_type": "code",
   "execution_count": 6,
   "metadata": {
    "collapsed": true
   },
   "outputs": [
    {
     "name": "stdout",
     "output_type": "stream",
     "text": [
      "Epoch 1/35\n",
      " - 11s - loss: 1539.5932 - mean_squared_error: 1539.5932 - mean_absolute_error: 17.8368\n",
      "Epoch 2/35\n",
      " - 10s - loss: 459.1197 - mean_squared_error: 459.1197 - mean_absolute_error: 9.3515\n",
      "Epoch 3/35\n",
      " - 10s - loss: 252.7237 - mean_squared_error: 252.7237 - mean_absolute_error: 7.0025\n",
      "Epoch 4/35\n",
      " - 10s - loss: 171.7723 - mean_squared_error: 171.7723 - mean_absolute_error: 5.8311\n",
      "Epoch 5/35\n",
      " - 12s - loss: 138.1883 - mean_squared_error: 138.1883 - mean_absolute_error: 5.2725\n",
      "Epoch 6/35\n",
      " - 10s - loss: 120.2363 - mean_squared_error: 120.2363 - mean_absolute_error: 4.9157\n",
      "Epoch 7/35\n",
      " - 11s - loss: 101.6358 - mean_squared_error: 101.6358 - mean_absolute_error: 4.5597\n",
      "Epoch 8/35\n",
      " - 11s - loss: 95.8924 - mean_squared_error: 95.8924 - mean_absolute_error: 4.3961\n",
      "Epoch 9/35\n",
      " - 10s - loss: 81.3231 - mean_squared_error: 81.3231 - mean_absolute_error: 4.0882\n",
      "Epoch 10/35\n",
      " - 11s - loss: 81.5086 - mean_squared_error: 81.5086 - mean_absolute_error: 4.0480\n",
      "Epoch 11/35\n",
      " - 10s - loss: 74.3450 - mean_squared_error: 74.3450 - mean_absolute_error: 3.9116\n",
      "Epoch 12/35\n",
      " - 12s - loss: 70.0744 - mean_squared_error: 70.0744 - mean_absolute_error: 3.8056\n",
      "Epoch 13/35\n",
      " - 12s - loss: 68.4376 - mean_squared_error: 68.4376 - mean_absolute_error: 3.7300\n",
      "Epoch 14/35\n",
      " - 11s - loss: 66.6352 - mean_squared_error: 66.6352 - mean_absolute_error: 3.6763\n",
      "Epoch 15/35\n",
      " - 11s - loss: 64.5297 - mean_squared_error: 64.5297 - mean_absolute_error: 3.6094\n",
      "Epoch 16/35\n",
      " - 10s - loss: 62.1442 - mean_squared_error: 62.1442 - mean_absolute_error: 3.5845\n",
      "Epoch 17/35\n",
      " - 10s - loss: 59.5513 - mean_squared_error: 59.5513 - mean_absolute_error: 3.5231\n",
      "Epoch 18/35\n",
      " - 10s - loss: 58.3801 - mean_squared_error: 58.3801 - mean_absolute_error: 3.4797\n",
      "Epoch 19/35\n",
      " - 10s - loss: 59.2171 - mean_squared_error: 59.2171 - mean_absolute_error: 3.5024\n",
      "Epoch 20/35\n",
      " - 10s - loss: 56.0117 - mean_squared_error: 56.0117 - mean_absolute_error: 3.4357\n",
      "Epoch 21/35\n",
      " - 11s - loss: 55.7578 - mean_squared_error: 55.7578 - mean_absolute_error: 3.4298\n",
      "Epoch 22/35\n",
      " - 10s - loss: 55.0786 - mean_squared_error: 55.0786 - mean_absolute_error: 3.3903\n",
      "Epoch 23/35\n",
      " - 10s - loss: 52.4221 - mean_squared_error: 52.4221 - mean_absolute_error: 3.3398\n",
      "Epoch 24/35\n",
      " - 10s - loss: 53.7570 - mean_squared_error: 53.7570 - mean_absolute_error: 3.3635\n",
      "Epoch 25/35\n",
      " - 10s - loss: 51.3552 - mean_squared_error: 51.3552 - mean_absolute_error: 3.3076\n",
      "Epoch 26/35\n",
      " - 10s - loss: 52.1843 - mean_squared_error: 52.1843 - mean_absolute_error: 3.3139\n",
      "Epoch 27/35\n",
      " - 10s - loss: 51.0786 - mean_squared_error: 51.0786 - mean_absolute_error: 3.2708\n",
      "Epoch 28/35\n",
      " - 10s - loss: 49.9464 - mean_squared_error: 49.9464 - mean_absolute_error: 3.2310\n",
      "Epoch 29/35\n",
      " - 10s - loss: 50.9167 - mean_squared_error: 50.9167 - mean_absolute_error: 3.2421\n",
      "Epoch 30/35\n",
      " - 10s - loss: 49.7633 - mean_squared_error: 49.7633 - mean_absolute_error: 3.2298\n",
      "Epoch 31/35\n",
      " - 10s - loss: 47.7383 - mean_squared_error: 47.7383 - mean_absolute_error: 3.1919\n",
      "Epoch 32/35\n",
      " - 11s - loss: 48.0153 - mean_squared_error: 48.0153 - mean_absolute_error: 3.1802\n",
      "Epoch 33/35\n",
      " - 10s - loss: 47.0717 - mean_squared_error: 47.0717 - mean_absolute_error: 3.1502\n",
      "Epoch 34/35\n",
      " - 11s - loss: 48.8076 - mean_squared_error: 48.8076 - mean_absolute_error: 3.1904\n",
      "Epoch 35/35\n",
      " - 11s - loss: 46.6804 - mean_squared_error: 46.6804 - mean_absolute_error: 3.1470\n",
      "Saved model to disk\n"
     ]
    }
   ],
   "source": [
    "#Setting the optimizer, loss function and metrics. Also fitting the model and saving the model and the weights trained.\n",
    "\n",
    "opt = optimizers.Adam(lr=0.001)\n",
    "\n",
    "model.compile(loss='mse', optimizer=opt, metrics=['mse','mae'])\n",
    "model.fit(train1, trainl, epochs=35, verbose=2)\n",
    "\n",
    "\n",
    "#Save model and model weights\n",
    "model_json = model.to_json()\n",
    "with open(\"reg_model1.json\", \"w\") as json_file:\n",
    "    json_file.write(model_json)\n",
    "# serialize weights to HDF5\n",
    "model.save_weights(\"reg_model_weights.h5\")\n",
    "print(\"Saved model to disk\")\n"
   ]
  },
  {
   "cell_type": "code",
   "execution_count": 7,
   "metadata": {},
   "outputs": [],
   "source": [
    "'''\n",
    "pred = model.predict(train1)\n",
    "'''"
   ]
  },
  {
   "cell_type": "code",
   "execution_count": 8,
   "metadata": {},
   "outputs": [],
   "source": [
    "'''\n",
    "predf = pd.DataFrame(pred, columns=['slope', 'intercept'])\n",
    "predf.index.name = 'id'\n",
    "predf.to_csv('sub.csv')\n",
    "'''"
   ]
  },
  {
   "cell_type": "code",
   "execution_count": 9,
   "metadata": {},
   "outputs": [],
   "source": [
    "dfx_test = df_test.values\n",
    "X_test = dfx_test[:,1:]"
   ]
  },
  {
   "cell_type": "code",
   "execution_count": 10,
   "metadata": {},
   "outputs": [
    {
     "data": {
      "text/plain": [
       "array([[ -9.58569825e-01,   1.95492401e+02],\n",
       "       [ -1.37843475e-01,   8.68744373e+00],\n",
       "       [ -1.89164609e-01,  -5.54920425e+01],\n",
       "       ..., \n",
       "       [ -2.09386572e-01,  -1.17955727e+02],\n",
       "       [ -1.77931666e+00,   2.04097504e+02],\n",
       "       [ -3.50598359e+00,   3.42380676e+02]], dtype=float32)"
      ]
     },
     "execution_count": 10,
     "metadata": {},
     "output_type": "execute_result"
    }
   ],
   "source": [
    "#Using the model to predict with the test dataset\n",
    "\n",
    "prediction = model.predict(X_test)\n",
    "prediction"
   ]
  },
  {
   "cell_type": "code",
   "execution_count": 11,
   "metadata": {
    "collapsed": true
   },
   "outputs": [],
   "source": [
    "#Saving the submission.csv file\n",
    "\n",
    "predfile = pd.DataFrame(pred, columns=['slope', 'intercept'])\n",
    "predf.index.name = 'id'\n",
    "predf.to_csv('submission.csv')"
   ]
  }
 ],
 "metadata": {
  "kernelspec": {
   "display_name": "Python 3",
   "language": "python",
   "name": "python3"
  },
  "language_info": {
   "codemirror_mode": {
    "name": "ipython",
    "version": 3
   },
   "file_extension": ".py",
   "mimetype": "text/x-python",
   "name": "python",
   "nbconvert_exporter": "python",
   "pygments_lexer": "ipython3",
   "version": "3.6.3"
  }
 },
 "nbformat": 4,
 "nbformat_minor": 2
}
